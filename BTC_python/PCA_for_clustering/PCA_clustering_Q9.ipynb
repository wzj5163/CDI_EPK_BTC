{
 "cells": [
  {
   "cell_type": "code",
   "execution_count": 1,
   "id": "55000f24",
   "metadata": {},
   "outputs": [
    {
     "name": "stdout",
     "output_type": "stream",
     "text": [
      "      20171220  20180117  20180418  20180516  20180718  20180822  20181121  \\\n",
      "0     0.180682  0.344786  0.052343  0.041490  0.018417  0.023527  0.139586   \n",
      "1     0.182047  0.346379  0.052675  0.041700  0.018592  0.023731  0.140330   \n",
      "2     0.183422  0.347979  0.053010  0.041911  0.018768  0.023937  0.141078   \n",
      "3     0.184807  0.349586  0.053348  0.042123  0.018946  0.024145  0.141832   \n",
      "4     0.186203  0.351201  0.053688  0.042337  0.019126  0.024354  0.142590   \n",
      "...        ...       ...       ...       ...       ...       ...       ...   \n",
      "996   0.172669  0.208727  0.050818  0.066996  0.052965  0.060773  0.064707   \n",
      "997   0.171783  0.207262  0.050553  0.066762  0.052753  0.060550  0.064331   \n",
      "998   0.170902  0.205806  0.050289  0.066529  0.052543  0.060327  0.063956   \n",
      "999   0.170026  0.204359  0.050027  0.066297  0.052333  0.060105  0.063585   \n",
      "1000  0.169156  0.202922  0.049767  0.066066  0.052124  0.059885  0.063215   \n",
      "\n",
      "      20190116  20190327  20190403  ...  20220928  20221005  20221012  \\\n",
      "0     0.039962  0.060077  0.084332  ...  0.038923  0.030751  0.060120   \n",
      "1     0.040166  0.060398  0.084631  ...  0.039182  0.030918  0.060356   \n",
      "2     0.040372  0.060721  0.084930  ...  0.039443  0.031086  0.060593   \n",
      "3     0.040579  0.061046  0.085231  ...  0.039705  0.031255  0.060831   \n",
      "4     0.040788  0.061372  0.085534  ...  0.039969  0.031425  0.061070   \n",
      "...        ...       ...       ...  ...       ...       ...       ...   \n",
      "996   0.037124  0.063937  0.123825  ...  0.049538  0.050730  0.049272   \n",
      "997   0.036906  0.063613  0.123309  ...  0.049333  0.050545  0.049092   \n",
      "998   0.036689  0.063291  0.122794  ...  0.049128  0.050360  0.048912   \n",
      "999   0.036474  0.062971  0.122282  ...  0.048924  0.050176  0.048734   \n",
      "1000  0.036260  0.062653  0.121773  ...  0.048722  0.049993  0.048556   \n",
      "\n",
      "      20221019  20221026  20221102  20221109  20221123  20221130  20221207  \n",
      "0     0.029818  0.029894  0.033117  0.160594  0.029798  0.036537  0.012744  \n",
      "1     0.029937  0.030042  0.033245  0.161266  0.030024  0.036671  0.012882  \n",
      "2     0.030055  0.030190  0.033373  0.161906  0.030252  0.036805  0.013022  \n",
      "3     0.030175  0.030340  0.033503  0.162488  0.030482  0.036940  0.013164  \n",
      "4     0.030294  0.030490  0.033632  0.162987  0.030713  0.037075  0.013307  \n",
      "...        ...       ...       ...       ...       ...       ...       ...  \n",
      "996   0.056872  0.060248  0.022199  0.066089  0.116717  0.040438  0.044748  \n",
      "997   0.056701  0.060069  0.022051  0.065737  0.116308  0.040270  0.044589  \n",
      "998   0.056531  0.059890  0.021905  0.065386  0.115901  0.040103  0.044431  \n",
      "999   0.056361  0.059713  0.021759  0.065038  0.115495  0.039936  0.044273  \n",
      "1000  0.056192  0.059536  0.021615  0.064692  0.115091  0.039771  0.044116  \n",
      "\n",
      "[1001 rows x 193 columns]\n"
     ]
    }
   ],
   "source": [
    "import numpy as np\n",
    "import pandas as pd\n",
    "from sklearn import datasets\n",
    "import matplotlib.pyplot as plt\n",
    "\n",
    "from sklearn.decomposition import PCA\n",
    "\n",
    "##Approach 1\n",
    "#import os\n",
    "#path=\"/Users/ratmir/Downloads\"\n",
    "#os.chdir(path)\n",
    "\n",
    "df = pd.read_csv('Q9.csv')\n",
    "N = 193 # number of columns of df-1 (because first column is 'return' column)\n",
    "#df = df.iloc[:, 1:N]\n",
    "df = df.iloc[0:1001, 1:(N+1)]\n",
    "cols = list(df.columns)\n",
    "cols.reverse()\n",
    "df = df[cols] #reverse cols\n",
    "\n",
    "print(df)"
   ]
  },
  {
   "cell_type": "code",
   "execution_count": 2,
   "id": "66d8b416",
   "metadata": {
    "scrolled": false
   },
   "outputs": [
    {
     "name": "stdout",
     "output_type": "stream",
     "text": [
      "      20171220  20180117  20180418  20180516  20180718  20180822  20181121  \\\n",
      "0    -1.711017 -1.064831 -2.949934 -3.182308 -3.994493 -3.749600 -1.969076   \n",
      "1    -1.703491 -1.060222 -2.943606 -3.177258 -3.985043 -3.740960 -1.963761   \n",
      "2    -1.695965 -1.055614 -2.937269 -3.172206 -3.975596 -3.732321 -1.958440   \n",
      "3    -1.688441 -1.051005 -2.930920 -3.167150 -3.966151 -3.723682 -1.953114   \n",
      "4    -1.680917 -1.046396 -2.924557 -3.162092 -3.956709 -3.715044 -1.947781   \n",
      "...        ...       ...       ...       ...       ...       ...       ...   \n",
      "996  -1.756380 -1.566729 -2.979504 -2.703129 -2.938129 -2.800606 -2.737888   \n",
      "997  -1.761524 -1.573772 -2.984740 -2.706623 -2.942131 -2.804292 -2.743721   \n",
      "998  -1.766664 -1.580822 -2.989969 -2.710116 -2.946130 -2.807975 -2.749553   \n",
      "999  -1.771801 -1.587877 -2.995193 -2.713606 -2.950127 -2.811656 -2.755385   \n",
      "1000 -1.776934 -1.594935 -3.000411 -2.717094 -2.954121 -2.815334 -2.761216   \n",
      "\n",
      "      20190116  20190327  20190403  ...  20220928  20221005  20221012  \\\n",
      "0    -3.219835 -2.812121 -2.472991  ... -3.246160 -3.481835 -2.811420   \n",
      "1    -3.214724 -2.806792 -2.469459  ... -3.239535 -3.476417 -2.807502   \n",
      "2    -3.209611 -2.801462 -2.465923  ... -3.232908 -3.470997 -2.803581   \n",
      "3    -3.204495 -2.796129 -2.462385  ... -3.226279 -3.465574 -2.799657   \n",
      "4    -3.199376 -2.790795 -2.458844  ... -3.219649 -3.460148 -2.795731   \n",
      "...        ...       ...       ...  ...       ...       ...       ...   \n",
      "996  -3.293500 -2.749855 -2.088882  ... -3.005011 -2.981229 -3.010407   \n",
      "997  -3.299390 -2.754932 -2.093065  ... -3.009170 -2.984893 -3.014069   \n",
      "998  -3.305277 -2.760007 -2.097245  ... -3.013326 -2.988555 -3.017728   \n",
      "999  -3.311161 -2.765078 -2.101422  ... -3.017480 -2.992215 -3.021386   \n",
      "1000 -3.317042 -2.770147 -2.105595  ... -3.021630 -2.995873 -3.025042   \n",
      "\n",
      "      20221019  20221026  20221102  20221109  20221123  20221130  20221207  \n",
      "0    -3.512630 -3.510098 -3.407722 -1.828876 -3.513330 -3.309437 -4.362719  \n",
      "1    -3.508674 -3.505165 -3.403861 -1.824703 -3.505770 -3.305782 -4.351899  \n",
      "2    -3.504716 -3.500231 -3.399998 -1.820742 -3.498205 -3.302124 -4.341085  \n",
      "3    -3.500755 -3.495294 -3.396133 -1.817151 -3.490635 -3.298464 -4.330277  \n",
      "4    -3.496792 -3.490354 -3.392265 -1.814088 -3.483060 -3.294801 -4.319474  \n",
      "...        ...       ...       ...       ...       ...       ...       ...  \n",
      "996  -2.866957 -2.809294 -3.807707 -2.716750 -2.148007 -3.207996 -3.106712  \n",
      "997  -2.869963 -2.812267 -3.814377 -2.722097 -2.151516 -3.212157 -3.110269  \n",
      "998  -2.872968 -2.815239 -3.821046 -2.727441 -2.155023 -3.216316 -3.113824  \n",
      "999  -2.875972 -2.818209 -3.827714 -2.732782 -2.158528 -3.220473 -3.117377  \n",
      "1000 -2.878974 -2.821177 -3.834381 -2.738120 -2.162030 -3.224627 -3.120928  \n",
      "\n",
      "[1001 rows x 193 columns]\n"
     ]
    }
   ],
   "source": [
    "import numpy as np\n",
    "import scipy\n",
    "from scipy.cluster.hierarchy import dendrogram, linkage\n",
    "\n",
    "df = np.log(df)\n",
    "print(df)"
   ]
  },
  {
   "cell_type": "code",
   "execution_count": 3,
   "id": "eccf94ee",
   "metadata": {},
   "outputs": [],
   "source": [
    "aux = np.broadcast_to(df.values,  (df.shape[1], *df.shape))\n",
    "#result = np.sqrt(np.square(aux - aux.transpose()).sum(axis=1))\n",
    "\n",
    "#also possible:\n",
    "res = scipy.spatial.distance.pdist(df.transpose(), metric='euclidean') #\n",
    "\n",
    "###NEXT: Cluster based on this distance matrix!!!\n",
    "# res is a condensed distance matrix"
   ]
  },
  {
   "cell_type": "code",
   "execution_count": 4,
   "id": "da4b8cd6",
   "metadata": {
    "scrolled": false
   },
   "outputs": [
    {
     "data": {
      "text/plain": [
       "True"
      ]
     },
     "execution_count": 4,
     "metadata": {},
     "output_type": "execute_result"
    }
   ],
   "source": [
    "np.all(np.isfinite(res))"
   ]
  },
  {
   "cell_type": "code",
   "execution_count": 5,
   "id": "3675cceb",
   "metadata": {},
   "outputs": [
    {
     "data": {
      "image/png": "[encoded data removed]",
      "text/plain": [
       "<Figure size 432x288 with 1 Axes>"
      ]
     },
     "metadata": {
      "needs_background": "light"
     },
     "output_type": "display_data"
    }
   ],
   "source": [
    "hist, bins = np.histogram(res, bins=50)\n",
    "plt.hist(res, bins=50, alpha=0.5, ec='black')\n",
    "plt.xlabel('Y')\n",
    "plt.ylabel('Frequency')\n",
    "plt.show()"
   ]
  },
  {
   "cell_type": "code",
   "execution_count": 6,
   "id": "4667a1d8",
   "metadata": {
    "scrolled": false
   },
   "outputs": [
    {
     "data": {
      "image/png": "[encoded data removed]",
      "text/plain": [
       "<Figure size 432x288 with 1 Axes>"
      ]
     },
     "metadata": {
      "needs_background": "light"
     },
     "output_type": "display_data"
    }
   ],
   "source": [
    "import pandas as pd\n",
    "import numpy as np\n",
    "from matplotlib import pyplot as plt\n",
    "from sklearn.cluster import AgglomerativeClustering\n",
    "import scipy.cluster.hierarchy as sch\n",
    "clust=linkage(res, method=\"complete\")\n",
    "\n",
    "Z = sch.linkage(res, method='ward')\n",
    "dendrogram = sch.dendrogram(Z)\n",
    "plt.savefig('Q9_dendrogram.png',transparent=True)"
   ]
  },
  {
   "cell_type": "code",
   "execution_count": 7,
   "id": "cfcb0f4c",
   "metadata": {
    "scrolled": false
   },
   "outputs": [
    {
     "name": "stdout",
     "output_type": "stream",
     "text": [
      "[[0 0 0 1 1 1 0 1 1 0 0 1 0 1 1 0 0 0 0 0 1 0 0 0 0 0 0 0 1 0 1 1 1 1 0 0\n",
      "  1 1 1 1 1 1 1 1 1 1 1 1 1 1 1 1 1 1 1 1 1 1 1 0 1 0 1 1 1 1 1 1 1 1 1 1\n",
      "  1 1 1 1 1 1 1 1 1 1 1 1 1 1 1 1 1 1 1 1 1 1 1 1 1 0 0 0 0 0 0 0 0 1 1 0\n",
      "  1 1 1 1 1 1 1 1 0 0 0 0 0 0 1 1 1 1 1 1 1 1 1 1 1 0 1 1 1 1 1 1 1 1 1 1\n",
      "  1 1 1 1 1 1 1 1 1 1 1 1 1 1 1 1 1 1 1 1 1 1 1 1 1 0 1 1 1 1 0 1 1 1 1 1\n",
      "  1 1 1 1 1 1 1 1 1 0 1 1 1]]\n"
     ]
    }
   ],
   "source": [
    "from scipy.cluster.hierarchy import cut_tree\n",
    "#Zijin: the first 0 relates to first column of df, which is the very earlierst date\n",
    "print(cut_tree(Z, n_clusters = 2).T) # Printing transpose just for spa"
   ]
  },
  {
   "cell_type": "code",
   "execution_count": 8,
   "id": "2c4c16f9",
   "metadata": {
    "scrolled": true
   },
   "outputs": [
    {
     "name": "stdout",
     "output_type": "stream",
     "text": [
      "[[0 0 0 1 2 1 0 1 1 0 0 2 0 1 1 0 0 0 0 0 1 0 0 0 0 0 0 0 1 0 1 1 1 2 0 0\n",
      "  1 1 2 1 1 1 2 1 1 1 2 2 2 2 2 2 2 2 1 2 2 2 1 0 1 0 1 1 1 1 1 1 1 1 2 2\n",
      "  2 2 2 2 1 2 2 2 2 1 2 2 2 2 1 2 2 2 1 1 2 2 1 1 1 0 0 0 0 0 0 0 0 1 1 0\n",
      "  1 1 2 1 1 1 1 1 0 0 0 0 0 0 1 1 1 1 1 1 1 1 1 1 1 0 1 1 1 1 1 1 1 1 1 1\n",
      "  1 1 1 2 1 2 1 2 2 2 2 1 1 1 2 2 1 2 2 2 2 1 1 1 1 0 1 1 1 1 0 1 2 2 2 2\n",
      "  1 1 1 1 2 1 2 2 2 0 1 2 2]]\n"
     ]
    }
   ],
   "source": [
    "print(cut_tree(Z, n_clusters = 3).T)"
   ]
  }
 ],
 "metadata": {
  "kernelspec": {
   "display_name": "Python 3 (ipykernel)",
   "language": "python",
   "name": "python3"
  },
  "language_info": {
   "codemirror_mode": {
    "name": "ipython",
    "version": 3
   },
   "file_extension": ".py",
   "mimetype": "text/x-python",
   "name": "python",
   "nbconvert_exporter": "python",
   "pygments_lexer": "ipython3",
   "version": "3.9.7"
  }
 },
 "nbformat": 4,
 "nbformat_minor": 5
}
