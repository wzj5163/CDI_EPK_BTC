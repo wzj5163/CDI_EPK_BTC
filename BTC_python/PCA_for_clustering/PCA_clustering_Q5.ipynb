{
 "cells": [
  {
   "cell_type": "code",
   "execution_count": 7,
   "id": "2af0538e",
   "metadata": {},
   "outputs": [
    {
     "name": "stdout",
     "output_type": "stream",
     "text": [
      "      20171112  20171224  20180218  20180325  20180401  20180422  20180506  \\\n",
      "0     0.168536  0.126393  0.069725  0.046677  0.088946  0.025710  0.001832   \n",
      "1     0.169446  0.127473  0.070260  0.046902  0.089432  0.025883  0.001879   \n",
      "2     0.170362  0.128562  0.070800  0.047129  0.089920  0.026058  0.001927   \n",
      "3     0.171284  0.129661  0.071347  0.047356  0.090412  0.026234  0.001976   \n",
      "4     0.172211  0.130770  0.071899  0.047585  0.090907  0.026411  0.002027   \n",
      "...        ...       ...       ...       ...       ...       ...       ...   \n",
      "996   0.128569  0.117776  0.111949  0.009009  0.065375  0.033961  0.040412   \n",
      "997   0.127981  0.117011  0.111282  0.008948  0.065080  0.033862  0.040390   \n",
      "998   0.127397  0.116250  0.110598  0.008889  0.064786  0.033763  0.040368   \n",
      "999   0.126815  0.115493  0.109896  0.008832  0.064494  0.033665  0.040346   \n",
      "1000  0.126236  0.114740  0.109177  0.008777  0.064203  0.033567  0.040324   \n",
      "\n",
      "      20180520  20180902  20180909  ...  20221009  20221016  20221023  \\\n",
      "0     0.007764  0.000801  0.309309  ...  0.013878  0.000000  0.013957   \n",
      "1     0.007836  0.000825  0.310286  ...  0.013965  0.000000  0.014017   \n",
      "2     0.007909  0.000849  0.311266  ...  0.014053  0.000000  0.014078   \n",
      "3     0.007983  0.000874  0.312250  ...  0.014141  0.000000  0.014139   \n",
      "4     0.008058  0.000900  0.313238  ...  0.014230  0.000000  0.014200   \n",
      "...        ...       ...       ...  ...       ...       ...       ...   \n",
      "996   0.000069  0.004958  0.051385  ...  0.028659  0.021717  0.013638   \n",
      "997   0.000067  0.004843  0.051332  ...  0.028550  0.021617  0.013571   \n",
      "998   0.000064  0.004730  0.051280  ...  0.028442  0.021518  0.013504   \n",
      "999   0.000062  0.004620  0.051227  ...  0.028334  0.021420  0.013438   \n",
      "1000  0.000059  0.004512  0.051175  ...  0.028226  0.021321  0.013372   \n",
      "\n",
      "      20221030  20221106  20221113  20221120  20221127  20221204  20221211  \n",
      "0     0.013649  0.000088  0.087575  0.056451  0.012678  0.016251  0.008201  \n",
      "1     0.013723  0.000092  0.087880  0.056507  0.012752  0.016329  0.008167  \n",
      "2     0.013797  0.000097  0.088187  0.056560  0.012826  0.016408  0.008134  \n",
      "3     0.013873  0.000102  0.088494  0.056610  0.012901  0.016487  0.008099  \n",
      "4     0.013948  0.000107  0.088803  0.056659  0.012976  0.016566  0.008065  \n",
      "...        ...       ...       ...       ...       ...       ...       ...  \n",
      "996   0.018524  0.007075  0.021500  0.014528  0.039278  0.013211  0.030981  \n",
      "997   0.018461  0.007029  0.021378  0.014409  0.039130  0.013179  0.030841  \n",
      "998   0.018399  0.006983  0.021257  0.014292  0.038982  0.013148  0.030702  \n",
      "999   0.018337  0.006938  0.021136  0.014176  0.038835  0.013116  0.030563  \n",
      "1000  0.018276  0.006892  0.021016  0.014060  0.038689  0.013085  0.030425  \n",
      "\n",
      "[1001 rows x 216 columns]\n"
     ]
    }
   ],
   "source": [
    "import numpy as np\n",
    "import pandas as pd\n",
    "from sklearn import datasets\n",
    "import matplotlib.pyplot as plt\n",
    "\n",
    "from sklearn.decomposition import PCA\n",
    "\n",
    "##Approach 1\n",
    "#import os\n",
    "#path=\"/Users/ratmir/Downloads\"\n",
    "#os.chdir(path)\n",
    "\n",
    "df = pd.read_csv('Q5.csv')\n",
    "N = 216 # number of columns of df-1 (because first column is 'return' column)\n",
    "#df = df.iloc[:, 1:N]\n",
    "df = df.iloc[0:1001, 1:(N+1)]\n",
    "cols = list(df.columns)\n",
    "cols.reverse()\n",
    "df = df[cols] #reverse cols\n",
    "\n",
    "print(df)"
   ]
  },
  {
   "cell_type": "code",
   "execution_count": 8,
   "id": "014146bd",
   "metadata": {},
   "outputs": [
    {
     "name": "stdout",
     "output_type": "stream",
     "text": [
      "      20171112  20171224  20180218  20180325  20180401  20180422  20180506  \\\n",
      "0    -1.780608 -2.068361 -2.663199 -3.064496 -2.419730 -3.660889 -6.302528   \n",
      "1    -1.775221 -2.059852 -2.655556 -3.059687 -2.414282 -3.654150 -6.277069   \n",
      "2    -1.769830 -2.051341 -2.647891 -3.054875 -2.408830 -3.647415 -6.251737   \n",
      "3    -1.764435 -2.042829 -2.640205 -3.050060 -2.403376 -3.640686 -6.226529   \n",
      "4    -1.759036 -2.034316 -2.632498 -3.045242 -2.397918 -3.633962 -6.201445   \n",
      "...        ...       ...       ...       ...       ...       ...       ...   \n",
      "996  -2.051286 -2.138974 -2.189714 -4.709572 -2.727620 -3.382532 -3.208628   \n",
      "997  -2.055870 -2.145486 -2.195685 -4.716330 -2.732144 -3.385457 -3.209170   \n",
      "998  -2.060450 -2.152008 -2.201851 -4.722935 -2.736665 -3.388380 -3.209713   \n",
      "999  -2.065027 -2.158542 -2.208217 -4.729384 -2.741184 -3.391301 -3.210256   \n",
      "1000 -2.069600 -2.165088 -2.214789 -4.735677 -2.745701 -3.394220 -3.210798   \n",
      "\n",
      "      20180520  20180902  20180909  ...  20221009  20221016  20221023  \\\n",
      "0    -4.858289 -7.129273 -1.173413  ... -4.277465      -inf -4.271802   \n",
      "1    -4.849036 -7.100099 -1.170261  ... -4.271204      -inf -4.267480   \n",
      "2    -4.839760 -7.071069 -1.167107  ... -4.264942      -inf -4.263156   \n",
      "3    -4.830459 -7.042181 -1.163951  ... -4.258679      -inf -4.258831   \n",
      "4    -4.821134 -7.013433 -1.160791  ... -4.252415      -inf -4.254504   \n",
      "...        ...       ...       ...  ...       ...       ...       ...   \n",
      "996  -9.579568 -5.306822 -2.968410  ... -3.552290 -3.829666 -4.294886   \n",
      "997  -9.617802 -5.330225 -2.969434  ... -3.556098 -3.834263 -4.299812   \n",
      "998  -9.656257 -5.353740 -2.970460  ... -3.559905 -3.838858 -4.304737   \n",
      "999  -9.694935 -5.377368 -2.971486  ... -3.563710 -3.843452 -4.309661   \n",
      "1000 -9.733838 -5.401109 -2.972513  ... -3.567513 -3.848044 -4.314584   \n",
      "\n",
      "      20221030  20221106  20221113  20221120  20221127  20221204  20221211  \n",
      "0    -4.294114 -9.342017 -2.435260 -2.874378 -4.367888 -4.119598 -4.803477  \n",
      "1    -4.288693 -9.292204 -2.431781 -2.873398 -4.362086 -4.114796 -4.807594  \n",
      "2    -4.283270 -9.242851 -2.428300 -2.872459 -4.356282 -4.109991 -4.811756  \n",
      "3    -4.277846 -9.193951 -2.424817 -2.871562 -4.350477 -4.105185 -4.815961  \n",
      "4    -4.272419 -9.145494 -2.421333 -2.870705 -4.344670 -4.100377 -4.820207  \n",
      "...        ...       ...       ...       ...       ...       ...       ...  \n",
      "996  -3.988710 -4.951138 -3.839695 -4.231710 -3.237096 -4.326691 -3.474376  \n",
      "997  -3.992081 -4.957693 -3.845393 -4.239879 -3.240875 -4.329100 -3.478909  \n",
      "998  -3.995450 -4.964247 -3.851089 -4.248050 -3.244652 -4.331508 -3.483441  \n",
      "999  -3.998818 -4.970801 -3.856782 -4.256223 -3.248429 -4.333915 -3.487971  \n",
      "1000 -4.002184 -4.977354 -3.862474 -4.264398 -3.252205 -4.336320 -3.492501  \n",
      "\n",
      "[1001 rows x 216 columns]\n"
     ]
    },
    {
     "name": "stderr",
     "output_type": "stream",
     "text": [
      "/opt/anaconda3/lib/python3.9/site-packages/pandas/core/internals/blocks.py:402: RuntimeWarning: divide by zero encountered in log\n",
      "  result = func(self.values, **kwargs)\n",
      "/opt/anaconda3/lib/python3.9/site-packages/pandas/core/internals/blocks.py:402: RuntimeWarning: invalid value encountered in log\n",
      "  result = func(self.values, **kwargs)\n"
     ]
    }
   ],
   "source": [
    "import numpy as np\n",
    "import scipy\n",
    "from scipy.cluster.hierarchy import dendrogram, linkage\n",
    "\n",
    "df = np.log(df)\n",
    "print(df)"
   ]
  },
  {
   "cell_type": "code",
   "execution_count": 3,
   "id": "9a6a6c41",
   "metadata": {},
   "outputs": [],
   "source": [
    "aux = np.broadcast_to(df.values,  (df.shape[1], *df.shape))\n",
    "#result = np.sqrt(np.square(aux - aux.transpose()).sum(axis=1))\n",
    "\n",
    "#also possible:\n",
    "res = scipy.spatial.distance.pdist(df.transpose(), metric='euclidean') #\n",
    "\n",
    "###NEXT: Cluster based on this distance matrix!!!\n",
    "# res is a condensed distance matrix"
   ]
  },
  {
   "cell_type": "code",
   "execution_count": 4,
   "id": "109dd02b",
   "metadata": {},
   "outputs": [
    {
     "data": {
      "text/plain": [
       "False"
      ]
     },
     "execution_count": 4,
     "metadata": {},
     "output_type": "execute_result"
    }
   ],
   "source": [
    "np.all(np.isfinite(res))"
   ]
  },
  {
   "cell_type": "code",
   "execution_count": 5,
   "id": "fc4464ee",
   "metadata": {},
   "outputs": [
    {
     "ename": "ValueError",
     "evalue": "autodetected range of [nan, nan] is not finite",
     "output_type": "error",
     "traceback": [
      "\u001b[0;31m---------------------------------------------------------------------------\u001b[0m",
      "\u001b[0;31mValueError\u001b[0m                                Traceback (most recent call last)",
      "\u001b[0;32m/var/folders/_7/3860x3293tn4h2dlrp5_t7_h0000gn/T/ipykernel_19001/3265756732.py\u001b[0m in \u001b[0;36m<module>\u001b[0;34m\u001b[0m\n\u001b[0;32m----> 1\u001b[0;31m \u001b[0mhist\u001b[0m\u001b[0;34m,\u001b[0m \u001b[0mbins\u001b[0m \u001b[0;34m=\u001b[0m \u001b[0mnp\u001b[0m\u001b[0;34m.\u001b[0m\u001b[0mhistogram\u001b[0m\u001b[0;34m(\u001b[0m\u001b[0mres\u001b[0m\u001b[0;34m,\u001b[0m \u001b[0mbins\u001b[0m\u001b[0;34m=\u001b[0m\u001b[0;36m50\u001b[0m\u001b[0;34m)\u001b[0m\u001b[0;34m\u001b[0m\u001b[0;34m\u001b[0m\u001b[0m\n\u001b[0m\u001b[1;32m      2\u001b[0m \u001b[0mplt\u001b[0m\u001b[0;34m.\u001b[0m\u001b[0mhist\u001b[0m\u001b[0;34m(\u001b[0m\u001b[0mres\u001b[0m\u001b[0;34m,\u001b[0m \u001b[0mbins\u001b[0m\u001b[0;34m=\u001b[0m\u001b[0;36m50\u001b[0m\u001b[0;34m,\u001b[0m \u001b[0malpha\u001b[0m\u001b[0;34m=\u001b[0m\u001b[0;36m0.5\u001b[0m\u001b[0;34m,\u001b[0m \u001b[0mec\u001b[0m\u001b[0;34m=\u001b[0m\u001b[0;34m'black'\u001b[0m\u001b[0;34m)\u001b[0m\u001b[0;34m\u001b[0m\u001b[0;34m\u001b[0m\u001b[0m\n\u001b[1;32m      3\u001b[0m \u001b[0mplt\u001b[0m\u001b[0;34m.\u001b[0m\u001b[0mxlabel\u001b[0m\u001b[0;34m(\u001b[0m\u001b[0;34m'Y'\u001b[0m\u001b[0;34m)\u001b[0m\u001b[0;34m\u001b[0m\u001b[0;34m\u001b[0m\u001b[0m\n\u001b[1;32m      4\u001b[0m \u001b[0mplt\u001b[0m\u001b[0;34m.\u001b[0m\u001b[0mylabel\u001b[0m\u001b[0;34m(\u001b[0m\u001b[0;34m'Frequency'\u001b[0m\u001b[0;34m)\u001b[0m\u001b[0;34m\u001b[0m\u001b[0;34m\u001b[0m\u001b[0m\n\u001b[1;32m      5\u001b[0m \u001b[0mplt\u001b[0m\u001b[0;34m.\u001b[0m\u001b[0mshow\u001b[0m\u001b[0;34m(\u001b[0m\u001b[0;34m)\u001b[0m\u001b[0;34m\u001b[0m\u001b[0;34m\u001b[0m\u001b[0m\n",
      "\u001b[0;32m/opt/anaconda3/lib/python3.9/site-packages/numpy/core/overrides.py\u001b[0m in \u001b[0;36mhistogram\u001b[0;34m(*args, **kwargs)\u001b[0m\n",
      "\u001b[0;32m/opt/anaconda3/lib/python3.9/site-packages/numpy/lib/histograms.py\u001b[0m in \u001b[0;36mhistogram\u001b[0;34m(a, bins, range, normed, weights, density)\u001b[0m\n\u001b[1;32m    791\u001b[0m     \u001b[0ma\u001b[0m\u001b[0;34m,\u001b[0m \u001b[0mweights\u001b[0m \u001b[0;34m=\u001b[0m \u001b[0m_ravel_and_check_weights\u001b[0m\u001b[0;34m(\u001b[0m\u001b[0ma\u001b[0m\u001b[0;34m,\u001b[0m \u001b[0mweights\u001b[0m\u001b[0;34m)\u001b[0m\u001b[0;34m\u001b[0m\u001b[0;34m\u001b[0m\u001b[0m\n\u001b[1;32m    792\u001b[0m \u001b[0;34m\u001b[0m\u001b[0m\n\u001b[0;32m--> 793\u001b[0;31m     \u001b[0mbin_edges\u001b[0m\u001b[0;34m,\u001b[0m \u001b[0muniform_bins\u001b[0m \u001b[0;34m=\u001b[0m \u001b[0m_get_bin_edges\u001b[0m\u001b[0;34m(\u001b[0m\u001b[0ma\u001b[0m\u001b[0;34m,\u001b[0m \u001b[0mbins\u001b[0m\u001b[0;34m,\u001b[0m \u001b[0mrange\u001b[0m\u001b[0;34m,\u001b[0m \u001b[0mweights\u001b[0m\u001b[0;34m)\u001b[0m\u001b[0;34m\u001b[0m\u001b[0;34m\u001b[0m\u001b[0m\n\u001b[0m\u001b[1;32m    794\u001b[0m \u001b[0;34m\u001b[0m\u001b[0m\n\u001b[1;32m    795\u001b[0m     \u001b[0;31m# Histogram is an integer or a float array depending on the weights.\u001b[0m\u001b[0;34m\u001b[0m\u001b[0;34m\u001b[0m\u001b[0m\n",
      "\u001b[0;32m/opt/anaconda3/lib/python3.9/site-packages/numpy/lib/histograms.py\u001b[0m in \u001b[0;36m_get_bin_edges\u001b[0;34m(a, bins, range, weights)\u001b[0m\n\u001b[1;32m    424\u001b[0m             \u001b[0;32mraise\u001b[0m \u001b[0mValueError\u001b[0m\u001b[0;34m(\u001b[0m\u001b[0;34m'`bins` must be positive, when an integer'\u001b[0m\u001b[0;34m)\u001b[0m\u001b[0;34m\u001b[0m\u001b[0;34m\u001b[0m\u001b[0m\n\u001b[1;32m    425\u001b[0m \u001b[0;34m\u001b[0m\u001b[0m\n\u001b[0;32m--> 426\u001b[0;31m         \u001b[0mfirst_edge\u001b[0m\u001b[0;34m,\u001b[0m \u001b[0mlast_edge\u001b[0m \u001b[0;34m=\u001b[0m \u001b[0m_get_outer_edges\u001b[0m\u001b[0;34m(\u001b[0m\u001b[0ma\u001b[0m\u001b[0;34m,\u001b[0m \u001b[0mrange\u001b[0m\u001b[0;34m)\u001b[0m\u001b[0;34m\u001b[0m\u001b[0;34m\u001b[0m\u001b[0m\n\u001b[0m\u001b[1;32m    427\u001b[0m \u001b[0;34m\u001b[0m\u001b[0m\n\u001b[1;32m    428\u001b[0m     \u001b[0;32melif\u001b[0m \u001b[0mnp\u001b[0m\u001b[0;34m.\u001b[0m\u001b[0mndim\u001b[0m\u001b[0;34m(\u001b[0m\u001b[0mbins\u001b[0m\u001b[0;34m)\u001b[0m \u001b[0;34m==\u001b[0m \u001b[0;36m1\u001b[0m\u001b[0;34m:\u001b[0m\u001b[0;34m\u001b[0m\u001b[0;34m\u001b[0m\u001b[0m\n",
      "\u001b[0;32m/opt/anaconda3/lib/python3.9/site-packages/numpy/lib/histograms.py\u001b[0m in \u001b[0;36m_get_outer_edges\u001b[0;34m(a, range)\u001b[0m\n\u001b[1;32m    321\u001b[0m         \u001b[0mfirst_edge\u001b[0m\u001b[0;34m,\u001b[0m \u001b[0mlast_edge\u001b[0m \u001b[0;34m=\u001b[0m \u001b[0ma\u001b[0m\u001b[0;34m.\u001b[0m\u001b[0mmin\u001b[0m\u001b[0;34m(\u001b[0m\u001b[0;34m)\u001b[0m\u001b[0;34m,\u001b[0m \u001b[0ma\u001b[0m\u001b[0;34m.\u001b[0m\u001b[0mmax\u001b[0m\u001b[0;34m(\u001b[0m\u001b[0;34m)\u001b[0m\u001b[0;34m\u001b[0m\u001b[0;34m\u001b[0m\u001b[0m\n\u001b[1;32m    322\u001b[0m         \u001b[0;32mif\u001b[0m \u001b[0;32mnot\u001b[0m \u001b[0;34m(\u001b[0m\u001b[0mnp\u001b[0m\u001b[0;34m.\u001b[0m\u001b[0misfinite\u001b[0m\u001b[0;34m(\u001b[0m\u001b[0mfirst_edge\u001b[0m\u001b[0;34m)\u001b[0m \u001b[0;32mand\u001b[0m \u001b[0mnp\u001b[0m\u001b[0;34m.\u001b[0m\u001b[0misfinite\u001b[0m\u001b[0;34m(\u001b[0m\u001b[0mlast_edge\u001b[0m\u001b[0;34m)\u001b[0m\u001b[0;34m)\u001b[0m\u001b[0;34m:\u001b[0m\u001b[0;34m\u001b[0m\u001b[0;34m\u001b[0m\u001b[0m\n\u001b[0;32m--> 323\u001b[0;31m             raise ValueError(\n\u001b[0m\u001b[1;32m    324\u001b[0m                 \"autodetected range of [{}, {}] is not finite\".format(first_edge, last_edge))\n\u001b[1;32m    325\u001b[0m \u001b[0;34m\u001b[0m\u001b[0m\n",
      "\u001b[0;31mValueError\u001b[0m: autodetected range of [nan, nan] is not finite"
     ]
    }
   ],
   "source": [
    "hist, bins = np.histogram(res, bins=50)\n",
    "plt.hist(res, bins=50, alpha=0.5, ec='black')\n",
    "plt.xlabel('Y')\n",
    "plt.ylabel('Frequency')\n",
    "plt.show()"
   ]
  },
  {
   "cell_type": "code",
   "execution_count": 6,
   "id": "420cc36d",
   "metadata": {},
   "outputs": [
    {
     "ename": "ValueError",
     "evalue": "The condensed distance matrix must contain only finite values.",
     "output_type": "error",
     "traceback": [
      "\u001b[0;31m---------------------------------------------------------------------------\u001b[0m",
      "\u001b[0;31mValueError\u001b[0m                                Traceback (most recent call last)",
      "\u001b[0;32m/var/folders/_7/3860x3293tn4h2dlrp5_t7_h0000gn/T/ipykernel_19001/4293855297.py\u001b[0m in \u001b[0;36m<module>\u001b[0;34m\u001b[0m\n\u001b[1;32m      4\u001b[0m \u001b[0;32mfrom\u001b[0m \u001b[0msklearn\u001b[0m\u001b[0;34m.\u001b[0m\u001b[0mcluster\u001b[0m \u001b[0;32mimport\u001b[0m \u001b[0mAgglomerativeClustering\u001b[0m\u001b[0;34m\u001b[0m\u001b[0;34m\u001b[0m\u001b[0m\n\u001b[1;32m      5\u001b[0m \u001b[0;32mimport\u001b[0m \u001b[0mscipy\u001b[0m\u001b[0;34m.\u001b[0m\u001b[0mcluster\u001b[0m\u001b[0;34m.\u001b[0m\u001b[0mhierarchy\u001b[0m \u001b[0;32mas\u001b[0m \u001b[0msch\u001b[0m\u001b[0;34m\u001b[0m\u001b[0;34m\u001b[0m\u001b[0m\n\u001b[0;32m----> 6\u001b[0;31m \u001b[0mclust\u001b[0m\u001b[0;34m=\u001b[0m\u001b[0mlinkage\u001b[0m\u001b[0;34m(\u001b[0m\u001b[0mres\u001b[0m\u001b[0;34m,\u001b[0m \u001b[0mmethod\u001b[0m\u001b[0;34m=\u001b[0m\u001b[0;34m\"complete\"\u001b[0m\u001b[0;34m)\u001b[0m\u001b[0;34m\u001b[0m\u001b[0;34m\u001b[0m\u001b[0m\n\u001b[0m\u001b[1;32m      7\u001b[0m \u001b[0;34m\u001b[0m\u001b[0m\n\u001b[1;32m      8\u001b[0m \u001b[0mZ\u001b[0m \u001b[0;34m=\u001b[0m \u001b[0msch\u001b[0m\u001b[0;34m.\u001b[0m\u001b[0mlinkage\u001b[0m\u001b[0;34m(\u001b[0m\u001b[0mres\u001b[0m\u001b[0;34m,\u001b[0m \u001b[0mmethod\u001b[0m\u001b[0;34m=\u001b[0m\u001b[0;34m'ward'\u001b[0m\u001b[0;34m)\u001b[0m\u001b[0;34m\u001b[0m\u001b[0;34m\u001b[0m\u001b[0m\n",
      "\u001b[0;32m/opt/anaconda3/lib/python3.9/site-packages/scipy/cluster/hierarchy.py\u001b[0m in \u001b[0;36mlinkage\u001b[0;34m(y, method, metric, optimal_ordering)\u001b[0m\n\u001b[1;32m   1063\u001b[0m \u001b[0;34m\u001b[0m\u001b[0m\n\u001b[1;32m   1064\u001b[0m     \u001b[0;32mif\u001b[0m \u001b[0;32mnot\u001b[0m \u001b[0mnp\u001b[0m\u001b[0;34m.\u001b[0m\u001b[0mall\u001b[0m\u001b[0;34m(\u001b[0m\u001b[0mnp\u001b[0m\u001b[0;34m.\u001b[0m\u001b[0misfinite\u001b[0m\u001b[0;34m(\u001b[0m\u001b[0my\u001b[0m\u001b[0;34m)\u001b[0m\u001b[0;34m)\u001b[0m\u001b[0;34m:\u001b[0m\u001b[0;34m\u001b[0m\u001b[0;34m\u001b[0m\u001b[0m\n\u001b[0;32m-> 1065\u001b[0;31m         raise ValueError(\"The condensed distance matrix must contain only \"\n\u001b[0m\u001b[1;32m   1066\u001b[0m                          \"finite values.\")\n\u001b[1;32m   1067\u001b[0m \u001b[0;34m\u001b[0m\u001b[0m\n",
      "\u001b[0;31mValueError\u001b[0m: The condensed distance matrix must contain only finite values."
     ]
    }
   ],
   "source": [
    "import pandas as pd\n",
    "import numpy as np\n",
    "from matplotlib import pyplot as plt\n",
    "from sklearn.cluster import AgglomerativeClustering\n",
    "import scipy.cluster.hierarchy as sch\n",
    "clust=linkage(res, method=\"complete\")\n",
    "\n",
    "Z = sch.linkage(res, method='ward')\n",
    "dendrogram = sch.dendrogram(Z)\n",
    "plt.savefig('Q9_dendrogram.png',transparent=True)"
   ]
  },
  {
   "cell_type": "code",
   "execution_count": null,
   "id": "b4752b6b",
   "metadata": {},
   "outputs": [],
   "source": [
    "from scipy.cluster.hierarchy import cut_tree\n",
    "#Zijin: the first 0 relates to first column of df, which is the very earlierst date\n",
    "print(cut_tree(Z, n_clusters = 2).T) # Printing transpose just for spa"
   ]
  },
  {
   "cell_type": "code",
   "execution_count": null,
   "id": "6796b7f8",
   "metadata": {},
   "outputs": [],
   "source": [
    "print(cut_tree(Z, n_clusters = 3).T)"
   ]
  },
  {
   "cell_type": "code",
   "execution_count": null,
   "id": "530f11c1",
   "metadata": {},
   "outputs": [],
   "source": []
  },
  {
   "cell_type": "code",
   "execution_count": null,
   "id": "122ac5cf",
   "metadata": {},
   "outputs": [],
   "source": []
  }
 ],
 "metadata": {
  "kernelspec": {
   "display_name": "Python 3 (ipykernel)",
   "language": "python",
   "name": "python3"
  },
  "language_info": {
   "codemirror_mode": {
    "name": "ipython",
    "version": 3
   },
   "file_extension": ".py",
   "mimetype": "text/x-python",
   "name": "python",
   "nbconvert_exporter": "python",
   "pygments_lexer": "ipython3",
   "version": "3.9.7"
  }
 },
 "nbformat": 4,
 "nbformat_minor": 5
}
