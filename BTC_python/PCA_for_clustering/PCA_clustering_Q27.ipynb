{
 "cells": [
  {
   "cell_type": "code",
   "execution_count": 5,
   "id": "ed62736f",
   "metadata": {},
   "outputs": [
    {
     "name": "stdout",
     "output_type": "stream",
     "text": [
      "      20170902  20171202  20171230  20180303  20180602  20180901  20180929  \\\n",
      "0     0.297760  0.310909  0.435167  0.430343  0.124212  0.147415  0.051782   \n",
      "1     0.298983  0.312627  0.436681  0.431784  0.125074  0.148617  0.052093   \n",
      "2     0.300212  0.314354  0.438201  0.433230  0.125942  0.149829  0.052399   \n",
      "3     0.301446  0.316090  0.439726  0.434680  0.126817  0.151050  0.052689   \n",
      "4     0.302686  0.317835  0.441258  0.436134  0.127698  0.152281  0.052957   \n",
      "...        ...       ...       ...       ...       ...       ...       ...   \n",
      "996   0.158913  0.205145  0.335769  0.273875  0.043651  0.085141  0.127299   \n",
      "997   0.158315  0.204400  0.333887  0.272461  0.043202  0.084324  0.126922   \n",
      "998   0.157719  0.203659  0.332004  0.271052  0.042760  0.083514  0.126546   \n",
      "999   0.157127  0.202921  0.330122  0.269648  0.042325  0.082713  0.126171   \n",
      "1000  0.156537  0.202186  0.328241  0.268250  0.041896  0.081919  0.125797   \n",
      "\n",
      "      20181201  20181229  20190126  ...  20220129  20220226  20220402  \\\n",
      "0     0.276222  0.275624  0.210157  ...  0.109590  0.107792  0.056725   \n",
      "1     0.277553  0.276925  0.211060  ...  0.110313  0.108531  0.057225   \n",
      "2     0.278890  0.278232  0.211968  ...  0.111041  0.109276  0.057731   \n",
      "3     0.280233  0.279546  0.212881  ...  0.111775  0.110027  0.058241   \n",
      "4     0.281581  0.280866  0.213798  ...  0.112514  0.110784  0.058757   \n",
      "...        ...       ...       ...  ...       ...       ...       ...   \n",
      "996   0.133984  0.375598  0.157732  ...  0.026350  0.031006  0.026979   \n",
      "997   0.132721  0.374395  0.156890  ...  0.025960  0.030704  0.026742   \n",
      "998   0.131469  0.373199  0.156053  ...  0.025576  0.030407  0.026507   \n",
      "999   0.130229  0.372009  0.155221  ...  0.025199  0.030115  0.026274   \n",
      "1000  0.128999  0.370827  0.154394  ...  0.024826  0.029827  0.026044   \n",
      "\n",
      "      20220430  20220528  20220702  20220730  20220903  20221001  20221029  \n",
      "0     0.078017  0.144890  0.166179  0.135734  0.125462  0.108972  0.047494  \n",
      "1     0.078446  0.145696  0.167091  0.136664  0.126206  0.109663  0.047890  \n",
      "2     0.078878  0.146508  0.168008  0.137601  0.126954  0.110358  0.048290  \n",
      "3     0.079313  0.147324  0.168931  0.138544  0.127708  0.111058  0.048693  \n",
      "4     0.079751  0.148147  0.169860  0.139495  0.128468  0.111764  0.049101  \n",
      "...        ...       ...       ...       ...       ...       ...       ...  \n",
      "996   0.015738  0.034357  0.056852  0.054998  0.030208  0.020439  0.013098  \n",
      "997   0.015607  0.033916  0.056174  0.054410  0.029888  0.020135  0.012966  \n",
      "998   0.015477  0.033481  0.055504  0.053830  0.029572  0.019857  0.012835  \n",
      "999   0.015348  0.033051  0.054842  0.053256  0.029260  0.019566  0.012706  \n",
      "1000  0.015220  0.032626  0.054188  0.052689  0.028951  0.019220  0.012578  \n",
      "\n",
      "[1001 rows x 54 columns]\n"
     ]
    }
   ],
   "source": [
    "import numpy as np\n",
    "import pandas as pd\n",
    "from sklearn import datasets\n",
    "import matplotlib.pyplot as plt\n",
    "\n",
    "from sklearn.decomposition import PCA\n",
    "\n",
    "##Approach 1\n",
    "#import os\n",
    "#path=\"/Users/ratmir/Downloads\"\n",
    "#os.chdir(path)\n",
    "\n",
    "df = pd.read_csv('Q27.csv')\n",
    "N = 193 # number of columns of df-1 (because first column is 'return' column)\n",
    "#df = df.iloc[:, 1:N]\n",
    "df = df.iloc[0:1001, 1:(N+1)]\n",
    "cols = list(df.columns)\n",
    "cols.reverse()\n",
    "df = df[cols] #reverse cols\n",
    "\n",
    "print(df)"
   ]
  },
  {
   "cell_type": "code",
   "execution_count": 6,
   "id": "b098d90b",
   "metadata": {},
   "outputs": [
    {
     "name": "stdout",
     "output_type": "stream",
     "text": [
      "      20170902  20171202  20171230  20180303  20180602  20180901  20180929  \\\n",
      "0    -1.211467 -1.168254 -0.832025 -0.843174 -2.085763 -1.914506 -2.960718   \n",
      "1    -1.207368 -1.162743 -0.828553 -0.839829 -2.078850 -1.906381 -2.954718   \n",
      "2    -1.203267 -1.157234 -0.825078 -0.836487 -2.071933 -1.898261 -2.948871   \n",
      "3    -1.199164 -1.151728 -0.821603 -0.833146 -2.065012 -1.890144 -2.943339   \n",
      "4    -1.195060 -1.146223 -0.818126 -0.829806 -2.058086 -1.882029 -2.938280   \n",
      "...        ...       ...       ...       ...       ...       ...       ...   \n",
      "996  -1.839396 -1.584038 -1.091331 -1.295082 -3.131535 -2.463448 -2.061215   \n",
      "997  -1.843168 -1.587676 -1.096954 -1.300261 -3.141873 -2.473092 -2.064185   \n",
      "998  -1.846937 -1.591310 -1.102607 -1.305446 -3.152156 -2.482736 -2.067153   \n",
      "999  -1.850702 -1.594940 -1.108291 -1.310637 -3.162384 -2.492380 -2.070119   \n",
      "1000 -1.854462 -1.598567 -1.114007 -1.315835 -3.172555 -2.502024 -2.073083   \n",
      "\n",
      "      20181201  20181229  20190126  ...  20220129  20220226  20220402  \\\n",
      "0    -1.286551 -1.288716 -1.559898  ... -2.211005 -2.227554 -2.869545   \n",
      "1    -1.281742 -1.284008 -1.555611  ... -2.204433 -2.220718 -2.860761   \n",
      "2    -1.276936 -1.279298 -1.551319  ... -2.197855 -2.213876 -2.851967   \n",
      "3    -1.272133 -1.274588 -1.547023  ... -2.191270 -2.207028 -2.843164   \n",
      "4    -1.267334 -1.269878 -1.542724  ... -2.184680 -2.200174 -2.834351   \n",
      "...        ...       ...       ...  ...       ...       ...       ...   \n",
      "996  -2.010035 -0.979235 -1.846859  ... -3.636303 -3.473581 -3.612709   \n",
      "997  -2.019508 -0.982443 -1.852212  ... -3.651218 -3.483358 -3.621527   \n",
      "998  -2.028984 -0.985644 -1.857561  ... -3.666103 -3.493078 -3.630345   \n",
      "999  -2.038464 -0.988836 -1.862907  ... -3.680954 -3.502739 -3.639165   \n",
      "1000 -2.047947 -0.992021 -1.868250  ... -3.695878 -3.512342 -3.647987   \n",
      "\n",
      "      20220430  20220528  20220702  20220730  20220903  20221001  20221029  \n",
      "0    -2.550834 -1.931778 -1.794691 -1.997059 -2.075751 -2.216661 -3.047154  \n",
      "1    -2.545343 -1.926231 -1.789219 -1.990232 -2.069842 -2.210348 -3.038849  \n",
      "2    -2.539848 -1.920678 -1.783743 -1.983401 -2.063927 -2.204027 -3.030534  \n",
      "3    -2.534350 -1.915119 -1.778264 -1.976565 -2.058005 -2.197699 -3.022210  \n",
      "4    -2.528850 -1.909554 -1.772782 -1.969724 -2.052076 -2.191364 -3.013876  \n",
      "...        ...       ...       ...       ...       ...       ...       ...  \n",
      "996  -4.151660 -3.370938 -2.867303 -2.900451 -3.499660 -3.890333 -4.335312  \n",
      "997  -4.160027 -3.383858 -2.879300 -2.911198 -3.510304 -3.905290 -4.345422  \n",
      "998  -4.168395 -3.396784 -2.891296 -2.921931 -3.520931 -3.919205 -4.355543  \n",
      "999  -4.176763 -3.409717 -2.903292 -2.932647 -3.531542 -3.933960 -4.365673  \n",
      "1000 -4.185130 -3.422656 -2.915287 -2.943343 -3.542137 -3.951804 -4.375810  \n",
      "\n",
      "[1001 rows x 54 columns]\n"
     ]
    }
   ],
   "source": [
    "import numpy as np\n",
    "import scipy\n",
    "from scipy.cluster.hierarchy import dendrogram, linkage\n",
    "\n",
    "df = np.log(df)\n",
    "print(df)"
   ]
  },
  {
   "cell_type": "code",
   "execution_count": 7,
   "id": "d48a25e9",
   "metadata": {},
   "outputs": [
    {
     "data": {
      "image/png": "[encoded data removed]",
      "text/plain": [
       "<Figure size 432x288 with 1 Axes>"
      ]
     },
     "metadata": {
      "needs_background": "light"
     },
     "output_type": "display_data"
    }
   ],
   "source": [
    "aux = np.broadcast_to(df.values,  (df.shape[1], *df.shape))\n",
    "#result = np.sqrt(np.square(aux - aux.transpose()).sum(axis=1))\n",
    "\n",
    "#also possible:\n",
    "res = scipy.spatial.distance.pdist(df.transpose(), metric='euclidean') #\n",
    "\n",
    "###NEXT: Cluster based on this distance matrix!!!\n",
    "# res is a condensed distance matrix\n",
    "\n",
    "import pandas as pd\n",
    "import numpy as np\n",
    "from matplotlib import pyplot as plt\n",
    "from sklearn.cluster import AgglomerativeClustering\n",
    "import scipy.cluster.hierarchy as sch\n",
    "clust=linkage(res, method=\"complete\")\n",
    "\n",
    "Z = sch.linkage(res, method='ward')\n",
    "dendrogram = sch.dendrogram(Z)\n",
    "plt.savefig('Q27_dendrogram.png',transparent=True)"
   ]
  },
  {
   "cell_type": "code",
   "execution_count": 4,
   "id": "cbf1d4e0",
   "metadata": {},
   "outputs": [
    {
     "name": "stdout",
     "output_type": "stream",
     "text": [
      "[[0 0 0 0 1 0 1 0 0 0 1 1 1 0 0 0 0 0 1 1 1 1 1 0 1 1 1 1 1 1 1 1 1 0 0 1\n",
      "  1 0 0 0 0 1 0 1 1 1 1 1 1 1 1 1 1 1]]\n"
     ]
    }
   ],
   "source": [
    "from scipy.cluster.hierarchy import cut_tree\n",
    "#Zijin: the first 0 relates to first column of df, which is the very earlierst date\n",
    "print(cut_tree(Z, n_clusters = 2).T) # Printing transpose just for spa"
   ]
  },
  {
   "cell_type": "code",
   "execution_count": 8,
   "id": "d93c46d6",
   "metadata": {},
   "outputs": [
    {
     "name": "stdout",
     "output_type": "stream",
     "text": [
      "[[0 0 0 0 1 0 1 0 0 0 2 2 1 0 0 0 0 0 1 1 2 1 2 0 1 1 2 2 2 2 2 1 1 0 0 1\n",
      "  1 0 0 0 0 1 0 1 1 1 2 2 1 1 1 1 1 2]]\n"
     ]
    }
   ],
   "source": [
    "print(cut_tree(Z, n_clusters = 3).T)"
   ]
  }
 ],
 "metadata": {
  "kernelspec": {
   "display_name": "Python 3 (ipykernel)",
   "language": "python",
   "name": "python3"
  },
  "language_info": {
   "codemirror_mode": {
    "name": "ipython",
    "version": 3
   },
   "file_extension": ".py",
   "mimetype": "text/x-python",
   "name": "python",
   "nbconvert_exporter": "python",
   "pygments_lexer": "ipython3",
   "version": "3.9.7"
  }
 },
 "nbformat": 4,
 "nbformat_minor": 5
}
