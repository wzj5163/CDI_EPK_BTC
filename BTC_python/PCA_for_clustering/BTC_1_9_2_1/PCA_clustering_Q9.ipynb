{
 "cells": [
  {
   "cell_type": "code",
   "execution_count": null,
   "id": "ef4d612e",
   "metadata": {},
   "outputs": [],
   "source": [
    "import numpy as np\n",
    "import pandas as pd\n",
    "from sklearn import datasets\n",
    "import matplotlib.pyplot as plt\n",
    "\n",
    "from sklearn.decomposition import PCA\n",
    "\n",
    "##Approach 1\n",
    "#import os\n",
    "#path=\"/Users/ratmir/Downloads\"\n",
    "#os.chdir(path)\n",
    "\n",
    "df = pd.read_csv('Q9.csv')\n",
    "N = 193 # number of columns of df-1 (because first column is 'return' column)\n",
    "#df = df.iloc[:, 1:N]\n",
    "df = df.iloc[0:1001, 1:(N+1)]\n",
    "cols = list(df.columns)\n",
    "cols.reverse()\n",
    "df = df[cols] #reverse cols\n",
    "\n",
    "print(df)\n",
    "\n"
   ]
  },
  {
   "cell_type": "code",
   "execution_count": null,
   "id": "db2537e5",
   "metadata": {},
   "outputs": [],
   "source": [
    "import numpy as np\n",
    "import scipy\n",
    "from scipy.cluster.hierarchy import dendrogram, linkage\n",
    "\n",
    "df = np.log(df)\n",
    "print(df)"
   ]
  },
  {
   "cell_type": "code",
   "execution_count": null,
   "id": "268f19a0",
   "metadata": {},
   "outputs": [],
   "source": [
    "aux = np.broadcast_to(df.values,  (df.shape[1], *df.shape))\n",
    "#result = np.sqrt(np.square(aux - aux.transpose()).sum(axis=1))\n",
    "\n",
    "#also possible:\n",
    "res = scipy.spatial.distance.pdist(df.transpose(), metric='euclidean') #\n",
    "\n",
    "###NEXT: Cluster based on this distance matrix!!!\n",
    "# res is a condensed distance matrix"
   ]
  },
  {
   "cell_type": "code",
   "execution_count": null,
   "id": "dc5ca85e",
   "metadata": {},
   "outputs": [],
   "source": [
    "np.all(np.isfinite(res))"
   ]
  },
  {
   "cell_type": "code",
   "execution_count": null,
   "id": "7fe6f522",
   "metadata": {},
   "outputs": [],
   "source": [
    "hist, bins = np.histogram(res, bins=50)\n",
    "plt.hist(res, bins=50, alpha=0.5, ec='black')\n",
    "plt.xlabel('Y')\n",
    "plt.ylabel('Frequency')\n",
    "plt.show()"
   ]
  },
  {
   "cell_type": "code",
   "execution_count": null,
   "id": "a6f2f7de",
   "metadata": {},
   "outputs": [],
   "source": [
    "import pandas as pd\n",
    "import numpy as np\n",
    "from matplotlib import pyplot as plt\n",
    "from sklearn.cluster import AgglomerativeClustering\n",
    "import scipy.cluster.hierarchy as sch\n",
    "clust=linkage(res, method=\"complete\")\n",
    "\n",
    "Z = sch.linkage(res, method='ward')\n",
    "dendrogram = sch.dendrogram(Z)\n",
    "plt.savefig('Q9_dendrogram.png',transparent=True)"
   ]
  },
  {
   "cell_type": "code",
   "execution_count": null,
   "id": "cfd0b1dd",
   "metadata": {},
   "outputs": [],
   "source": []
  }
 ],
 "metadata": {
  "kernelspec": {
   "display_name": "Python 3 (ipykernel)",
   "language": "python",
   "name": "python3"
  },
  "language_info": {
   "codemirror_mode": {
    "name": "ipython",
    "version": 3
   },
   "file_extension": ".py",
   "mimetype": "text/x-python",
   "name": "python",
   "nbconvert_exporter": "python",
   "pygments_lexer": "ipython3",
   "version": "3.9.7"
  }
 },
 "nbformat": 4,
 "nbformat_minor": 5
}
